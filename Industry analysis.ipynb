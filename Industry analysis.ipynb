{
 "cells": [
  {
   "cell_type": "markdown",
   "metadata": {},
   "source": [
    "# BAIT508_Industry_Analysis\n",
    "David Chen (30409156)\n",
<<<<<<< HEAD
    "**To-DO: Add your name and student# here** First Last (student#)\n",
=======
    "Wanting Xu (81971392)\n",
>>>>>>> 8dcf988eae8e0d2b24b0ff8a4c8ec422f20bd784
    "\n",
    "## Part 1. Quantitative Analysis of the Industry Sector"
   ]
  },
  {
   "cell_type": "markdown",
   "metadata": {},
   "source": [
    "### A. Industry Sector Selection and Data Filtering\n",
    "\n",
<<<<<<< HEAD
    "#### 1.\n",
=======
    "#### 1. ...\n",
>>>>>>> 8dcf988eae8e0d2b24b0ff8a4c8ec422f20bd784
    "\n",
    "#### 2."
   ]
  },
  {
   "cell_type": "code",
<<<<<<< HEAD
   "execution_count": null,
=======
   "execution_count": 7,
>>>>>>> 8dcf988eae8e0d2b24b0ff8a4c8ec422f20bd784
   "metadata": {},
   "outputs": [],
   "source": [
    "#To-Do: \n",
    "# 1. filter the data in \"data/public_firms.csv\" to only include the firms belonging to the industry sector(s) you have selected.\n",
    "# 2. How many unique firm-year (\"fyear\") observations are there in the filtered dataset?\n",
    "# 3. How many unique firms are there in the filtered dataset?\n",
    "# 4. How many firms in the filtered dataset have records over all 27 years (1994-2020)?"
   ]
  },
  {
   "cell_type": "markdown",
   "metadata": {},
   "source": [
    "#### 3.\n",
    "\n",
    "### B. Preliminary Analysis\n"
   ]
  },
  {
   "cell_type": "code",
<<<<<<< HEAD
   "execution_count": null,
=======
   "execution_count": 8,
>>>>>>> 8dcf988eae8e0d2b24b0ff8a4c8ec422f20bd784
   "metadata": {},
   "outputs": [],
   "source": [
    "#To-Do:"
   ]
  },
  {
   "cell_type": "markdown",
   "metadata": {},
   "source": [
    "## Part 2. Text Analysis on the Industry Sector\n",
    "\n",
    "### C. Text Cleaning"
   ]
  },
  {
   "cell_type": "code",
<<<<<<< HEAD
   "execution_count": null,
=======
   "execution_count": 9,
>>>>>>> 8dcf988eae8e0d2b24b0ff8a4c8ec422f20bd784
   "metadata": {},
   "outputs": [],
   "source": [
    "#To-Do:"
   ]
  },
  {
   "cell_type": "markdown",
   "metadata": {},
   "source": [
    "### D. Keyword Analysis"
   ]
  },
  {
   "cell_type": "code",
<<<<<<< HEAD
   "execution_count": null,
=======
   "execution_count": 10,
>>>>>>> 8dcf988eae8e0d2b24b0ff8a4c8ec422f20bd784
   "metadata": {},
   "outputs": [],
   "source": [
    "#To-Do:"
   ]
  },
  {
   "cell_type": "markdown",
   "metadata": {},
   "source": [
    "### E. Word Embedding"
   ]
  },
  {
   "cell_type": "code",
<<<<<<< HEAD
   "execution_count": null,
=======
   "execution_count": 11,
>>>>>>> 8dcf988eae8e0d2b24b0ff8a4c8ec422f20bd784
   "metadata": {},
   "outputs": [],
   "source": [
    "#To-Do:"
   ]
  },
  {
   "cell_type": "markdown",
   "metadata": {},
   "source": [
    "## Part 3. Comprehensive Analysis of One Sample Firm\n",
    "\n",
    "### F. Firm Analysis and Strategy Suggestion"
   ]
  },
  {
   "cell_type": "code",
<<<<<<< HEAD
   "execution_count": null,
=======
   "execution_count": 12,
>>>>>>> 8dcf988eae8e0d2b24b0ff8a4c8ec422f20bd784
   "metadata": {},
   "outputs": [],
   "source": [
    "#To-Do:"
   ]
  }
 ],
 "metadata": {
  "kernelspec": {
<<<<<<< HEAD
   "display_name": "base",
=======
   "display_name": "Python 3 (ipykernel)",
>>>>>>> 8dcf988eae8e0d2b24b0ff8a4c8ec422f20bd784
   "language": "python",
   "name": "python3"
  },
  "language_info": {
<<<<<<< HEAD
   "name": "python",
   "version": "3.11.4"
  },
  "orig_nbformat": 4
=======
   "codemirror_mode": {
    "name": "ipython",
    "version": 3
   },
   "file_extension": ".py",
   "mimetype": "text/x-python",
   "name": "python",
   "nbconvert_exporter": "python",
   "pygments_lexer": "ipython3",
   "version": "3.11.5"
  }
>>>>>>> 8dcf988eae8e0d2b24b0ff8a4c8ec422f20bd784
 },
 "nbformat": 4,
 "nbformat_minor": 2
}
