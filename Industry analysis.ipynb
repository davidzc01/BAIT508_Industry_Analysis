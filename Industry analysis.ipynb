{
 "cells": [
  {
   "cell_type": "markdown",
   "metadata": {},
   "source": [
    "# BAIT508_Industry_Analysis\n",
    "David Chen (30409156)\n",
    "Wanting Xu (81971392)\n",
    "\n",
    "## Part 1. Quantitative Analysis of the Industry Sector"
   ]
  },
  {
   "cell_type": "code",
   "execution_count": 10,
   "metadata": {},
   "outputs": [
    {
     "name": "stdout",
     "output_type": "stream",
     "text": [
      "   major_group                                        description\n",
      "0            1                      Agricultural Production Crops\n",
      "1            2  Agriculture production livestock and animal sp...\n",
      "2            7                              Agricultural Services\n",
      "3            8                                           Forestry\n",
      "4            9                       Fishing hunting and trapping\n",
      "   gvkey  fyear location      conm     ipodate   sic  prcc_c      ch      ni  \\\n",
      "0   1004   1994      USA  AAR CORP  1988/01/01  5080  13.375  22.487  10.463   \n",
      "1   1004   1995      USA  AAR CORP  1988/01/01  5080  22.000  33.606  16.012   \n",
      "2   1004   1996      USA  AAR CORP  1988/01/01  5080  30.250  51.705  23.025   \n",
      "3   1004   1997      USA  AAR CORP  1988/01/01  5080  38.750  17.222  35.657   \n",
      "4   1004   1998      USA  AAR CORP  1988/01/01  5080  23.875   8.250  41.671   \n",
      "\n",
      "     asset     sale       roa  \n",
      "0  425.814  451.395  0.024572  \n",
      "1  437.846  504.990  0.036570  \n",
      "2  529.584  589.328  0.043478  \n",
      "3  670.559  782.123  0.053175  \n",
      "4  726.630  918.036  0.057348  \n",
      "       cik  year                    name  \\\n",
      "0  1041588  2020        ACCESS-POWER INC   \n",
      "1  1693801  2020             Luxxo, Inc.   \n",
      "2  1556179  2020   RMR Industrials, Inc.   \n",
      "3  1626696  2020  STAR WEALTH GROUP INC.   \n",
      "4   315374  2020     HURCO COMPANIES INC   \n",
      "\n",
      "                                         item_1_text  \n",
      "0  fixed expenses are previosuly documented in an...  \n",
      "1  Corporate History Luxxo, Inc., Formerly known ...  \n",
      "2  Overview RMR s predecessor entity was incorpor...  \n",
      "3  Business Development & Business Overview We we...  \n",
      "4  General Hurco Companies, Inc. is an internatio...  \n"
     ]
    }
   ],
   "source": [
    "# Package Imports and Data Loading\n",
    "import pandas as pd\n",
    "import numpy as np\n",
    "import matplotlib.pyplot as plt\n",
    "\n",
    "#Load the data of major industry sectors and their corresponding codes\n",
    "dataFrameMajorGroup = pd.read_csv('data/major_groups.csv')\n",
    "\n",
    "dataFrame10K = pd.read_csv('data/2020_10K_item1_full.csv')\n",
    "\n",
    "dataFramePublicFirms = pd.read_csv('data/public_firms.csv')\n",
    "\n",
    "print(dataFrameMajorGroup.head())\n",
    "print(dataFramePublicFirms.head())\n",
    "print(dataFrame10K.head())\n"
   ]
  },
  {
   "cell_type": "markdown",
   "metadata": {},
   "source": [
    "### A. Industry Sector Selection and Data Filtering\n",
    "\n",
    "#### 1. \n",
    "List of major industry sectors and their corresponding codes has been loaded as dataframe `dataFrameMajorGroup`. Among the major industries listed we propose to look into [Industry Name]"
   ]
  },
  {
   "cell_type": "code",
   "execution_count": 11,
   "metadata": {},
   "outputs": [],
   "source": [
    "selectedMajorGroupCode = 51"
   ]
  },
  {
   "cell_type": "markdown",
   "metadata": {},
   "source": [
    "#### 2."
   ]
  },
  {
   "cell_type": "code",
   "execution_count": 12,
   "metadata": {},
   "outputs": [
    {
     "name": "stdout",
     "output_type": "stream",
     "text": [
      "         gvkey  fyear location                      conm ipodate   sic  \\\n",
      "368       1094   1995      USA                ACETO CORP     NaN  5160   \n",
      "369       1094   1996      USA                ACETO CORP     NaN  5160   \n",
      "370       1094   1997      USA                ACETO CORP     NaN  5160   \n",
      "371       1094   1998      USA                ACETO CORP     NaN  5160   \n",
      "372       1094   1999      USA                ACETO CORP     NaN  5160   \n",
      "...        ...    ...      ...                       ...     ...   ...   \n",
      "207716  264393   2016      USA  INNOVATIVE FOOD HOLDINGS     NaN  5140   \n",
      "207717  264393   2017      USA  INNOVATIVE FOOD HOLDINGS     NaN  5140   \n",
      "207718  264393   2018      USA  INNOVATIVE FOOD HOLDINGS     NaN  5140   \n",
      "207719  264393   2019      USA  INNOVATIVE FOOD HOLDINGS     NaN  5140   \n",
      "207720  264393   2020      USA  INNOVATIVE FOOD HOLDINGS     NaN  5140   \n",
      "\n",
      "        prcc_c     ch     ni   asset     sale       roa  \n",
      "368     16.000  1.644  7.756  86.116  164.783  0.090065  \n",
      "369     13.937  5.380  7.154  87.302  183.163  0.081945  \n",
      "370     20.500  4.142  6.228  86.145  169.387  0.072297  \n",
      "371     13.250  9.178  7.557  84.379  182.954  0.089560  \n",
      "372     11.000  3.991  6.091  86.159  169.189  0.070695  \n",
      "...        ...    ...    ...     ...      ...       ...  \n",
      "207716   0.450  3.764  6.388   9.158   35.172  0.697532  \n",
      "207717   1.190  5.133  4.529  12.020   41.245  0.376789  \n",
      "207718   0.575  4.760  1.696  17.383   52.926  0.097567  \n",
      "207719   0.440  3.966  0.223  20.875   57.903  0.010683  \n",
      "207720   0.290  5.060 -7.665  23.150   51.676 -0.331102  \n",
      "\n",
      "[2369 rows x 12 columns]\n"
     ]
    }
   ],
   "source": [
    "# Filter the data in \"data/public_firms.csv\" to only include the firms belonging to the industry sector(s) you have selected.\n",
    "def filterByIndustry(dataFrame, majorGroupCode):\n",
    "    return dataFrame[dataFrame['sic']//100 == majorGroupCode]\n",
    "\n",
    "filteredPublicFirms = filterByIndustry(dataFramePublicFirms, selectedMajorGroupCode)\n",
    "\n",
    "print(filteredPublicFirms)"
   ]
  },
  {
   "cell_type": "code",
   "execution_count": 13,
   "metadata": {},
   "outputs": [
    {
     "name": "stdout",
     "output_type": "stream",
     "text": [
      "There are 27 unique firm-year (\"fyear\") observations in the filtered dataset\n"
     ]
    }
   ],
   "source": [
    "#How many unique firm-year (\"fyear\") observations are there in the filtered dataset?\n",
    "numFyear =len(filteredPublicFirms.groupby('fyear'))\n",
    "\n",
    "print(f'There are {numFyear} unique firm-year (\"fyear\") observations in the filtered dataset')"
   ]
  },
  {
   "cell_type": "code",
   "execution_count": 14,
   "metadata": {},
   "outputs": [],
   "source": [
    "# 3. How many unique firms are there in the filtered dataset?\n"
   ]
  },
  {
   "cell_type": "code",
   "execution_count": 44,
   "metadata": {},
   "outputs": [],
   "source": [
    "# 4. How many firms in the filtered dataset have records over all 27 years (1994-2020)?\n",
    "filteredPublicFirms.head()\n",
    "index=filteredPublicFirms.groupby('conm')['conm'].count() >= 27\n"
   ]
  },
  {
   "cell_type": "markdown",
   "metadata": {},
   "source": [
    "#### 3.\n",
    "\n",
    "### B. Preliminary Analysis\n"
   ]
  },
  {
   "cell_type": "code",
   "execution_count": 7,
   "metadata": {},
   "outputs": [],
   "source": [
    "#1.\tWhat are the top 10 firms with the highest stock price (column \"prcc_c\") in the year 2020?\n"
   ]
  },
  {
   "cell_type": "code",
   "execution_count": null,
   "metadata": {},
   "outputs": [],
   "source": [
    "#2.\tWhat are the top 10 firms with the highest sales (column \"sale\") in the entire history of the dataset?\n"
   ]
  },
  {
   "cell_type": "code",
   "execution_count": null,
   "metadata": {},
   "outputs": [],
   "source": [
    "#3.\tWhat is the geographical distribution (column \"location\") of all the firms? In other words, how many firms are there in each location? Please list the top 10 locations. \n"
   ]
  },
  {
   "cell_type": "code",
   "execution_count": null,
   "metadata": {},
   "outputs": [],
   "source": [
    "#4.\tCreate a line chart to show the average stock price (column \"prcc_c\") in the selected sector(s) across the years. If you have selected multiple sectors, draw multiple lines to show them separately.\n"
   ]
  },
  {
   "cell_type": "code",
   "execution_count": null,
   "metadata": {},
   "outputs": [],
   "source": [
    "#5.\tWhich firm was affected the most by the 2008 Financial Crisis, as measured by the percentage drop in stock price from 2007 to 2008?\n"
   ]
  },
  {
   "cell_type": "code",
   "execution_count": null,
   "metadata": {},
   "outputs": [],
   "source": [
    "#6.\tPlot the average Return on Assets (ROA) for the firms located in the “USA” across the years. ROA is calculated as ni/asset."
   ]
  },
  {
   "cell_type": "markdown",
   "metadata": {},
   "source": [
    "## Part 2. Text Analysis on the Industry Sector\n",
    "\n",
    "### C. Text Cleaning"
   ]
  },
  {
   "cell_type": "code",
   "execution_count": 8,
   "metadata": {},
   "outputs": [],
   "source": [
    "#1.\tConvert all words to lowercase.\n"
   ]
  },
  {
   "cell_type": "code",
   "execution_count": null,
   "metadata": {},
   "outputs": [],
   "source": [
    "#2.\tRemove punctuations.\n"
   ]
  },
  {
   "cell_type": "code",
   "execution_count": null,
   "metadata": {},
   "outputs": [],
   "source": [
    "#3.\tRemove stop words based on the list of English stop words in NLTK.\n"
   ]
  },
  {
   "cell_type": "markdown",
   "metadata": {},
   "source": [
    "### D. Keyword Analysis"
   ]
  },
  {
   "cell_type": "code",
   "execution_count": 9,
   "metadata": {},
   "outputs": [],
   "source": [
    "#1.\tCreate a new DataFrame that includes only firms in your selected industry sectors. Ensure that you merge the 10-K data with the previous \"public_firm.csv\" data using an inner join.\n"
   ]
  },
  {
   "cell_type": "code",
   "execution_count": null,
   "metadata": {},
   "outputs": [],
   "source": [
    "#2.\tGenerate the top 10 keywords for each firm based on two different methods: word counts and TF-IDF score.\n"
   ]
  },
  {
   "cell_type": "code",
   "execution_count": null,
   "metadata": {},
   "outputs": [],
   "source": [
    "#3.\tCreate two wordclouds to visualize the keywords across all firms in the selected sector: one based on the word count of keywords and another based on the TF-IDF score.\n"
   ]
  },
  {
   "cell_type": "markdown",
   "metadata": {},
   "source": [
    "### E. Word Embedding"
   ]
  },
  {
   "cell_type": "code",
   "execution_count": 10,
   "metadata": {},
   "outputs": [],
   "source": [
    "#1.\tTrain a word2vec model with the full 10-K sample (e.g., \"data/2020_10K_item1_full.csv\"). Please use the cleaned text (e.g., results from Step C) for training.\n"
   ]
  },
  {
   "cell_type": "code",
   "execution_count": null,
   "metadata": {},
   "outputs": [],
   "source": [
    "#2.\tManually inspect the wordclouds you generated in D.3 and choose three representative keywords that are relevant to the industry sector of your interest. Utilize the trained word2vec model to find the most relevant five words for each of these three keywords.\n"
   ]
  },
  {
   "cell_type": "markdown",
   "metadata": {},
   "source": [
    "## Part 3. Comprehensive Analysis of One Sample Firm\n",
    "\n",
    "### F. Firm Analysis and Strategy Suggestion"
   ]
  },
  {
   "cell_type": "code",
   "execution_count": 11,
   "metadata": {},
   "outputs": [],
   "source": [
    "#1.\tConvert the keywords extracted in D.2 into word embeddings with the word2vec model trained in E.1. Add up the embeddings for each firm to create the firm-level embeddings. Use the firm-level embeddings to find the focal firm’s competing firms (or, most similar firms). \n"
   ]
  },
  {
   "cell_type": "code",
   "execution_count": null,
   "metadata": {},
   "outputs": [],
   "source": [
    "#2.\tCompare the revenue, market share, and ROA of the focal firm to its competitors and provide suggestions accordingly.\n"
   ]
  },
  {
   "cell_type": "code",
   "execution_count": null,
   "metadata": {},
   "outputs": [],
   "source": [
    "#3.\tPerform an analysis of the historical stock prices, ROA, revenue, and assets of the chosen company. Investigate potential correlations and address noteworthy decreases and increases.\n"
   ]
  }
 ],
 "metadata": {
  "kernelspec": {
   "display_name": "Python 3 (ipykernel)",
   "language": "python",
   "name": "python3"
  },
  "language_info": {
   "codemirror_mode": {
    "name": "ipython",
    "version": 3
   },
   "file_extension": ".py",
   "mimetype": "text/x-python",
   "name": "python",
   "nbconvert_exporter": "python",
   "pygments_lexer": "ipython3",
   "version": "3.11.4"
  },
  "orig_nbformat": 4
 },
 "nbformat": 4,
 "nbformat_minor": 2
}
