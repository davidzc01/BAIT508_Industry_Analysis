{
 "cells": [
  {
   "cell_type": "markdown",
   "metadata": {},
   "source": [
    "# BAIT508_Industry_Analysis\n",
    "David Chen (30409156)\n",
    "Wanting Xu (81971392)\n",
    "\n",
    "## Part 1. Quantitative Analysis of the Industry Sector"
   ]
  },
  {
   "cell_type": "code",
   "execution_count": 106,
   "metadata": {},
   "outputs": [
    {
     "name": "stdout",
     "output_type": "stream",
     "text": [
      "   major_group                                        description\n",
      "0            1                      Agricultural Production Crops\n",
      "1            2  Agriculture production livestock and animal sp...\n",
      "2            7                              Agricultural Services\n",
      "3            8                                           Forestry\n",
      "4            9                       Fishing hunting and trapping\n",
      "   gvkey  fyear location      conm     ipodate   sic  prcc_c      ch      ni  \\\n",
      "0   1004   1994      USA  AAR CORP  1988/01/01  5080  13.375  22.487  10.463   \n",
      "1   1004   1995      USA  AAR CORP  1988/01/01  5080  22.000  33.606  16.012   \n",
      "2   1004   1996      USA  AAR CORP  1988/01/01  5080  30.250  51.705  23.025   \n",
      "3   1004   1997      USA  AAR CORP  1988/01/01  5080  38.750  17.222  35.657   \n",
      "4   1004   1998      USA  AAR CORP  1988/01/01  5080  23.875   8.250  41.671   \n",
      "\n",
      "     asset     sale       roa  \n",
      "0  425.814  451.395  0.024572  \n",
      "1  437.846  504.990  0.036570  \n",
      "2  529.584  589.328  0.043478  \n",
      "3  670.559  782.123  0.053175  \n",
      "4  726.630  918.036  0.057348  \n",
      "       cik  year                    name  \\\n",
      "0  1041588  2020        ACCESS-POWER INC   \n",
      "1  1693801  2020             Luxxo, Inc.   \n",
      "2  1556179  2020   RMR Industrials, Inc.   \n",
      "3  1626696  2020  STAR WEALTH GROUP INC.   \n",
      "4   315374  2020     HURCO COMPANIES INC   \n",
      "\n",
      "                                         item_1_text  \n",
      "0  fixed expenses are previosuly documented in an...  \n",
      "1  Corporate History Luxxo, Inc., Formerly known ...  \n",
      "2  Overview RMR s predecessor entity was incorpor...  \n",
      "3  Business Development & Business Overview We we...  \n",
      "4  General Hurco Companies, Inc. is an internatio...  \n"
     ]
    }
   ],
   "source": [
    "# Package Imports and Data Loading\n",
    "import pandas as pd\n",
    "import numpy as np\n",
    "import matplotlib.pyplot as plt\n",
    "\n",
    "#Load the data of major industry sectors and their corresponding codes\n",
    "dataFrameMajorGroup = pd.read_csv('data/major_groups.csv')\n",
    "\n",
    "dataFrame10K = pd.read_csv('data/2020_10K_item1_full.csv')\n",
    "\n",
    "dataFramePublicFirms = pd.read_csv('data/public_firms.csv')\n",
    "\n",
    "print(dataFrameMajorGroup.head())\n",
    "print(dataFramePublicFirms.head())\n",
    "print(dataFrame10K.head())\n"
   ]
  },
  {
   "cell_type": "markdown",
   "metadata": {},
   "source": [
    "### A. Industry Sector Selection and Data Filtering\n",
    "\n",
    "#### 1. \n",
    "List of major industry sectors and their corresponding codes has been loaded as dataframe `dataFrameMajorGroup`. Among the major industries listed we propose to look into [Industry Name]"
   ]
  },
  {
   "cell_type": "code",
   "execution_count": 107,
   "metadata": {},
   "outputs": [],
   "source": [
    "selectedMajorGroupCode = 50"
   ]
  },
  {
   "cell_type": "markdown",
   "metadata": {},
   "source": [
    "#### 2."
   ]
  },
  {
   "cell_type": "code",
   "execution_count": 108,
   "metadata": {},
   "outputs": [
    {
     "name": "stdout",
     "output_type": "stream",
     "text": [
      "         gvkey  fyear location                         conm     ipodate   sic  \\\n",
      "0         1004   1994      USA                     AAR CORP  1988/01/01  5080   \n",
      "1         1004   1995      USA                     AAR CORP  1988/01/01  5080   \n",
      "2         1004   1996      USA                     AAR CORP  1988/01/01  5080   \n",
      "3         1004   1997      USA                     AAR CORP  1988/01/01  5080   \n",
      "4         1004   1998      USA                     AAR CORP  1988/01/01  5080   \n",
      "...        ...    ...      ...                          ...         ...   ...   \n",
      "203709  187714   2018      USA  WESCO AIRCRAFT HOLDINGS INC  2011/07/28  5080   \n",
      "203710  187714   2019      USA  WESCO AIRCRAFT HOLDINGS INC  2011/07/28  5080   \n",
      "204523  197958   2011      CHN        FIFTH SEASON INTL INC         NaN  5051   \n",
      "204538  198255   2014      USA         WOD RETAIL SOLUTIONS         NaN  5090   \n",
      "204539  198255   2015      USA         WOD RETAIL SOLUTIONS         NaN  5090   \n",
      "\n",
      "        prcc_c      ch      ni     asset      sale        roa  \n",
      "0       13.375  22.487  10.463   425.814   451.395   0.024572  \n",
      "1       22.000  33.606  16.012   437.846   504.990   0.036570  \n",
      "2       30.250  51.705  23.025   529.584   589.328   0.043478  \n",
      "3       38.750  17.222  35.657   670.559   782.123   0.053175  \n",
      "4       23.875   8.250  41.671   726.630   918.036   0.057348  \n",
      "...        ...     ...     ...       ...       ...        ...  \n",
      "203709   7.900  46.222  32.654  1789.476  1570.450   0.018248  \n",
      "203710  11.020  38.034  21.369  1794.798  1696.450   0.011906  \n",
      "204523   1.010   0.309   0.132   229.057   198.727   0.000576  \n",
      "204538   1.510   0.001  -2.357     0.822     0.015  -2.867397  \n",
      "204539   0.017   0.002  -5.041     0.102     0.002 -49.421569  \n",
      "\n",
      "[3527 rows x 12 columns]\n"
     ]
    }
   ],
   "source": [
    "# Filter the data in \"data/public_firms.csv\" to only include the firms belonging to the industry sector(s) you have selected.\n",
    "def filterByIndustry(dataFrame, majorGroupCode):\n",
    "    return dataFrame[dataFrame['sic']//100 == majorGroupCode]\n",
    "\n",
    "print(filterByIndustry(dataFramePublicFirms, selectedMajorGroupCode))"
   ]
  },
  {
   "cell_type": "code",
   "execution_count": null,
   "metadata": {},
   "outputs": [],
   "source": [
    "# 2. How many unique firm-year (\"fyear\") observations are there in the filtered dataset?\n",
    "\n",
    "# 3. How many unique firms are there in the filtered dataset?\n",
    "# 4. How many firms in the filtered dataset have records over all 27 years (1994-2020)?"
   ]
  },
  {
   "cell_type": "markdown",
   "metadata": {},
   "source": [
    "#### 3.\n",
    "\n",
    "### B. Preliminary Analysis\n"
   ]
  },
  {
   "cell_type": "code",
   "execution_count": 109,
   "metadata": {},
   "outputs": [],
   "source": [
    "#To-Do:"
   ]
  },
  {
   "cell_type": "markdown",
   "metadata": {},
   "source": [
    "## Part 2. Text Analysis on the Industry Sector\n",
    "\n",
    "### C. Text Cleaning"
   ]
  },
  {
   "cell_type": "code",
   "execution_count": 110,
   "metadata": {},
   "outputs": [],
   "source": [
    "#To-Do:"
   ]
  },
  {
   "cell_type": "markdown",
   "metadata": {},
   "source": [
    "### D. Keyword Analysis"
   ]
  },
  {
   "cell_type": "code",
   "execution_count": 111,
   "metadata": {},
   "outputs": [],
   "source": [
    "#To-Do:"
   ]
  },
  {
   "cell_type": "markdown",
   "metadata": {},
   "source": [
    "### E. Word Embedding"
   ]
  },
  {
   "cell_type": "code",
   "execution_count": 112,
   "metadata": {},
   "outputs": [],
   "source": [
    "#To-Do:"
   ]
  },
  {
   "cell_type": "markdown",
   "metadata": {},
   "source": [
    "## Part 3. Comprehensive Analysis of One Sample Firm\n",
    "\n",
    "### F. Firm Analysis and Strategy Suggestion"
   ]
  },
  {
   "cell_type": "code",
   "execution_count": 113,
   "metadata": {},
   "outputs": [],
   "source": [
    "#To-Do:"
   ]
  }
 ],
 "metadata": {
  "kernelspec": {
   "display_name": "Python 3 (ipykernel)",
   "language": "python",
   "name": "python3"
  },
  "language_info": {
   "codemirror_mode": {
    "name": "ipython",
    "version": 3
   },
   "file_extension": ".py",
   "mimetype": "text/x-python",
   "name": "python",
   "nbconvert_exporter": "python",
   "pygments_lexer": "ipython3",
   "version": "3.11.4"
  },
  "orig_nbformat": 4
 },
 "nbformat": 4,
 "nbformat_minor": 2
}
