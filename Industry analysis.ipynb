{
 "cells": [
  {
   "cell_type": "markdown",
   "metadata": {},
   "source": [
    "# BAIT508_Industry_Analysis\n",
    "David Chen (30409156)\n",
    "Wanting Xu (81971392)\n",
    "\n",
    "## Part 1. Quantitative Analysis of the Industry Sector"
   ]
  },
  {
   "cell_type": "code",
   "execution_count": 2,
   "metadata": {},
   "outputs": [
    {
     "name": "stderr",
     "output_type": "stream",
     "text": [
      "[nltk_data] Downloading package stopwords to\n",
      "[nltk_data]     /Users/davidchen/nltk_data...\n",
      "[nltk_data]   Package stopwords is already up-to-date!\n"
     ]
    },
    {
     "name": "stdout",
     "output_type": "stream",
     "text": [
      "   major_group                                        description\n",
      "0            1                      Agricultural Production Crops\n",
      "1            2  Agriculture production livestock and animal sp...\n",
      "2            7                              Agricultural Services\n",
      "3            8                                           Forestry\n",
      "4            9                       Fishing hunting and trapping\n",
      "   gvkey  fyear location      conm     ipodate   sic  prcc_c      ch      ni  \\\n",
      "0   1004   1994      USA  AAR CORP  1988/01/01  5080  13.375  22.487  10.463   \n",
      "1   1004   1995      USA  AAR CORP  1988/01/01  5080  22.000  33.606  16.012   \n",
      "2   1004   1996      USA  AAR CORP  1988/01/01  5080  30.250  51.705  23.025   \n",
      "3   1004   1997      USA  AAR CORP  1988/01/01  5080  38.750  17.222  35.657   \n",
      "4   1004   1998      USA  AAR CORP  1988/01/01  5080  23.875   8.250  41.671   \n",
      "\n",
      "     asset     sale       roa  \n",
      "0  425.814  451.395  0.024572  \n",
      "1  437.846  504.990  0.036570  \n",
      "2  529.584  589.328  0.043478  \n",
      "3  670.559  782.123  0.053175  \n",
      "4  726.630  918.036  0.057348  \n",
      "       cik  year                       name  \\\n",
      "0  1041588  2020           ACCESS-POWER INC   \n",
      "1   315374  2020        HURCO COMPANIES INC   \n",
      "2  1622996  2020  ACRO BIOMEDICAL CO., LTD.   \n",
      "3  1191334  2020     Chun Can Capital Group   \n",
      "4  1191334  2020     Chun Can Capital Group   \n",
      "\n",
      "                                         item_1_text   gvkey  \n",
      "0  fixed expenses are previosuly documented in an...   66119  \n",
      "1  General Hurco Companies, Inc. is an internatio...    5788  \n",
      "2  We have been engaged in the business of develo...   27584  \n",
      "3  CORPORATE HISTORY Chun Can Capital Group (form...  153614  \n",
      "4  CORPORATE HISTORY Chun Can Capital Group (form...  153614  \n"
     ]
    }
   ],
   "source": [
    "# Package Imports and Data Loading\n",
    "import pandas as pd\n",
    "import numpy as np\n",
    "import matplotlib.pyplot as plt\n",
    "import nltk\n",
    "import string\n",
    "import warnings\n",
    "\n",
    "from nltk.corpus import stopwords\n",
    "nltk.download('stopwords')\n",
    "\n",
    "warnings.filterwarnings('ignore')\n",
    "\n",
    "#Load the data of major industry sectors and their corresponding codes\n",
    "dataFrameMajorGroup = pd.read_csv('data/major_groups.csv')\n",
    "\n",
    "dataFrame10K = pd.read_csv('data/2020_10K_item1_full.csv')\n",
    "\n",
    "dataFramePublicFirms = pd.read_csv('data/public_firms.csv')\n",
    "\n",
    "print(dataFrameMajorGroup.head())\n",
    "print(dataFramePublicFirms.head())\n",
    "print(dataFrame10K.head())\n"
   ]
  },
  {
   "cell_type": "markdown",
   "metadata": {},
   "source": [
    "### A. Industry Sector Selection and Data Filtering\n",
    "\n",
    "#### 1. \n",
    "List of major industry sectors and their corresponding codes has been loaded as dataframe `dataFrameMajorGroup`. Among the major industries listed we propose to look into [Industry Name]"
   ]
  },
  {
   "cell_type": "code",
   "execution_count": 236,
   "metadata": {},
   "outputs": [],
   "source": [
    "selectedMajorGroupCode = 51"
   ]
  },
  {
   "cell_type": "markdown",
   "metadata": {},
   "source": [
    "#### 2."
   ]
  },
  {
   "cell_type": "code",
   "execution_count": 237,
   "metadata": {},
   "outputs": [
    {
     "name": "stdout",
     "output_type": "stream",
     "text": [
      "         gvkey  fyear location                      conm ipodate   sic  \\\n",
      "368       1094   1995      USA                ACETO CORP     NaN  5160   \n",
      "369       1094   1996      USA                ACETO CORP     NaN  5160   \n",
      "370       1094   1997      USA                ACETO CORP     NaN  5160   \n",
      "371       1094   1998      USA                ACETO CORP     NaN  5160   \n",
      "372       1094   1999      USA                ACETO CORP     NaN  5160   \n",
      "...        ...    ...      ...                       ...     ...   ...   \n",
      "207716  264393   2016      USA  INNOVATIVE FOOD HOLDINGS     NaN  5140   \n",
      "207717  264393   2017      USA  INNOVATIVE FOOD HOLDINGS     NaN  5140   \n",
      "207718  264393   2018      USA  INNOVATIVE FOOD HOLDINGS     NaN  5140   \n",
      "207719  264393   2019      USA  INNOVATIVE FOOD HOLDINGS     NaN  5140   \n",
      "207720  264393   2020      USA  INNOVATIVE FOOD HOLDINGS     NaN  5140   \n",
      "\n",
      "        prcc_c     ch     ni   asset     sale       roa  \n",
      "368     16.000  1.644  7.756  86.116  164.783  0.090065  \n",
      "369     13.937  5.380  7.154  87.302  183.163  0.081945  \n",
      "370     20.500  4.142  6.228  86.145  169.387  0.072297  \n",
      "371     13.250  9.178  7.557  84.379  182.954  0.089560  \n",
      "372     11.000  3.991  6.091  86.159  169.189  0.070695  \n",
      "...        ...    ...    ...     ...      ...       ...  \n",
      "207716   0.450  3.764  6.388   9.158   35.172  0.697532  \n",
      "207717   1.190  5.133  4.529  12.020   41.245  0.376789  \n",
      "207718   0.575  4.760  1.696  17.383   52.926  0.097567  \n",
      "207719   0.440  3.966  0.223  20.875   57.903  0.010683  \n",
      "207720   0.290  5.060 -7.665  23.150   51.676 -0.331102  \n",
      "\n",
      "[2369 rows x 12 columns]\n"
     ]
    }
   ],
   "source": [
    "# Filter the data in \"data/public_firms.csv\" to only include the firms belonging to the industry sector(s) you have selected.\n",
    "def filterByIndustry(dataFrame, majorGroupCode):\n",
    "    return dataFrame[dataFrame['sic']//100 == majorGroupCode]\n",
    "\n",
    "filteredPublicFirms = filterByIndustry(dataFramePublicFirms, selectedMajorGroupCode)\n",
    "\n",
    "print(filteredPublicFirms)"
   ]
  },
  {
   "cell_type": "markdown",
   "metadata": {},
   "source": [
    "#### 3."
   ]
  },
  {
   "cell_type": "code",
   "execution_count": 238,
   "metadata": {},
   "outputs": [
    {
     "name": "stdout",
     "output_type": "stream",
     "text": [
      "There are 27 unique firm-year (\"fyear\") observations in the filtered dataset\n"
     ]
    }
   ],
   "source": [
    "#a.How many unique firm-year (\"fyear\") observations are there in the filtered dataset?\n",
    "numFyear =len(filteredPublicFirms.groupby('fyear'))\n",
    "\n",
    "print(f'There are {numFyear} unique firm-year (\"fyear\") observations in the filtered dataset')"
   ]
  },
  {
   "cell_type": "code",
   "execution_count": 239,
   "metadata": {},
   "outputs": [
    {
     "name": "stdout",
     "output_type": "stream",
     "text": [
      "There are 277 unique firms in the filtered dataset\n"
     ]
    }
   ],
   "source": [
    "# b.How many unique firms are there in the filtered dataset?\n",
    "numUniqueFirms = len(filteredPublicFirms.groupby('gvkey'))\n",
    "print(f'There are {numUniqueFirms} unique firms in the filtered dataset')"
   ]
  },
  {
   "cell_type": "code",
   "execution_count": 240,
   "metadata": {},
   "outputs": [
    {
     "name": "stdout",
     "output_type": "stream",
     "text": [
      "There are 4 firms in the filtered dataset have records over all 27 years (1994-2020)\n"
     ]
    }
   ],
   "source": [
    "# c. How many firms in the filtered dataset have records over all 27 years (1994-2020)?\n",
    "gvKeyYear = filteredPublicFirms.groupby('gvkey').count()[['fyear']]\n",
    "\n",
    "numFirmsRecordesAllYears = len(gvKeyYear[gvKeyYear['fyear'] == 27])\n",
    "\n",
    "print(f'There are {numFirmsRecordesAllYears} firms in the filtered dataset have records over all 27 years (1994-2020)')\n"
   ]
  },
  {
   "cell_type": "markdown",
   "metadata": {},
   "source": [
    "### B. Preliminary Analysis"
   ]
  },
  {
   "cell_type": "code",
   "execution_count": 241,
   "metadata": {},
   "outputs": [],
   "source": [
    "def topFirms(column, numFirms, fy = 0):\n",
    "    if fy == 0:\n",
    "        dataFrame = filteredPublicFirms\n",
    "    else:\n",
    "        dataFrame = filteredPublicFirms[filteredPublicFirms['fyear'] == fy]\n",
    "    return dataFrame.sort_values(by=column, ascending=False).head(numFirms)"
   ]
  },
  {
   "cell_type": "code",
   "execution_count": 242,
   "metadata": {},
   "outputs": [
    {
     "data": {
      "text/html": [
       "<div>\n",
       "<style scoped>\n",
       "    .dataframe tbody tr th:only-of-type {\n",
       "        vertical-align: middle;\n",
       "    }\n",
       "\n",
       "    .dataframe tbody tr th {\n",
       "        vertical-align: top;\n",
       "    }\n",
       "\n",
       "    .dataframe thead th {\n",
       "        text-align: right;\n",
       "    }\n",
       "</style>\n",
       "<table border=\"1\" class=\"dataframe\">\n",
       "  <thead>\n",
       "    <tr style=\"text-align: right;\">\n",
       "      <th></th>\n",
       "      <th>gvkey</th>\n",
       "      <th>fyear</th>\n",
       "      <th>location</th>\n",
       "      <th>conm</th>\n",
       "      <th>ipodate</th>\n",
       "      <th>sic</th>\n",
       "      <th>prcc_c</th>\n",
       "      <th>ch</th>\n",
       "      <th>ni</th>\n",
       "      <th>asset</th>\n",
       "      <th>sale</th>\n",
       "      <th>roa</th>\n",
       "    </tr>\n",
       "  </thead>\n",
       "  <tbody>\n",
       "    <tr>\n",
       "      <th>24707</th>\n",
       "      <td>7171</td>\n",
       "      <td>2020</td>\n",
       "      <td>USA</td>\n",
       "      <td>MCKESSON CORP</td>\n",
       "      <td>NaN</td>\n",
       "      <td>5122</td>\n",
       "      <td>173.92</td>\n",
       "      <td>6278.000</td>\n",
       "      <td>-4539.000</td>\n",
       "      <td>65015.000</td>\n",
       "      <td>238228.000</td>\n",
       "      <td>-0.069815</td>\n",
       "    </tr>\n",
       "    <tr>\n",
       "      <th>119266</th>\n",
       "      <td>61122</td>\n",
       "      <td>2020</td>\n",
       "      <td>USA</td>\n",
       "      <td>AMCON DISTRIBUTING CO</td>\n",
       "      <td>1995/08/04</td>\n",
       "      <td>5190</td>\n",
       "      <td>118.95</td>\n",
       "      <td>0.661</td>\n",
       "      <td>5.543</td>\n",
       "      <td>188.001</td>\n",
       "      <td>1127.979</td>\n",
       "      <td>0.029484</td>\n",
       "    </tr>\n",
       "    <tr>\n",
       "      <th>112130</th>\n",
       "      <td>31673</td>\n",
       "      <td>2020</td>\n",
       "      <td>USA</td>\n",
       "      <td>AMERISOURCEBERGEN CORP</td>\n",
       "      <td>1995/04/04</td>\n",
       "      <td>5122</td>\n",
       "      <td>97.76</td>\n",
       "      <td>4597.746</td>\n",
       "      <td>-3408.716</td>\n",
       "      <td>44274.830</td>\n",
       "      <td>189893.926</td>\n",
       "      <td>-0.076990</td>\n",
       "    </tr>\n",
       "    <tr>\n",
       "      <th>37549</th>\n",
       "      <td>10247</td>\n",
       "      <td>2020</td>\n",
       "      <td>USA</td>\n",
       "      <td>SYSCO CORP</td>\n",
       "      <td>NaN</td>\n",
       "      <td>5140</td>\n",
       "      <td>74.26</td>\n",
       "      <td>6059.427</td>\n",
       "      <td>215.475</td>\n",
       "      <td>22628.266</td>\n",
       "      <td>52893.310</td>\n",
       "      <td>0.009522</td>\n",
       "    </tr>\n",
       "    <tr>\n",
       "      <th>175383</th>\n",
       "      <td>147708</td>\n",
       "      <td>2020</td>\n",
       "      <td>USA</td>\n",
       "      <td>CALAVO GROWERS INC</td>\n",
       "      <td>NaN</td>\n",
       "      <td>5140</td>\n",
       "      <td>69.43</td>\n",
       "      <td>4.055</td>\n",
       "      <td>-13.625</td>\n",
       "      <td>429.624</td>\n",
       "      <td>1059.371</td>\n",
       "      <td>-0.031714</td>\n",
       "    </tr>\n",
       "    <tr>\n",
       "      <th>6848</th>\n",
       "      <td>2751</td>\n",
       "      <td>2020</td>\n",
       "      <td>USA</td>\n",
       "      <td>CARDINAL HEALTH INC</td>\n",
       "      <td>NaN</td>\n",
       "      <td>5122</td>\n",
       "      <td>53.56</td>\n",
       "      <td>2771.000</td>\n",
       "      <td>-3696.000</td>\n",
       "      <td>40766.000</td>\n",
       "      <td>152922.000</td>\n",
       "      <td>-0.090664</td>\n",
       "    </tr>\n",
       "    <tr>\n",
       "      <th>17958</th>\n",
       "      <td>5530</td>\n",
       "      <td>2020</td>\n",
       "      <td>USA</td>\n",
       "      <td>HAWKINS INC</td>\n",
       "      <td>NaN</td>\n",
       "      <td>5160</td>\n",
       "      <td>52.31</td>\n",
       "      <td>2.998</td>\n",
       "      <td>40.980</td>\n",
       "      <td>472.550</td>\n",
       "      <td>596.871</td>\n",
       "      <td>0.086721</td>\n",
       "    </tr>\n",
       "    <tr>\n",
       "      <th>40945</th>\n",
       "      <td>11017</td>\n",
       "      <td>2020</td>\n",
       "      <td>USA</td>\n",
       "      <td>UNIVERSAL CORP/VA</td>\n",
       "      <td>NaN</td>\n",
       "      <td>5150</td>\n",
       "      <td>48.61</td>\n",
       "      <td>197.221</td>\n",
       "      <td>87.410</td>\n",
       "      <td>2341.924</td>\n",
       "      <td>1983.357</td>\n",
       "      <td>0.037324</td>\n",
       "    </tr>\n",
       "    <tr>\n",
       "      <th>55415</th>\n",
       "      <td>14269</td>\n",
       "      <td>2020</td>\n",
       "      <td>USA</td>\n",
       "      <td>HERBALIFE NUTRITION LTD</td>\n",
       "      <td>NaN</td>\n",
       "      <td>5122</td>\n",
       "      <td>48.05</td>\n",
       "      <td>1045.400</td>\n",
       "      <td>372.600</td>\n",
       "      <td>3076.100</td>\n",
       "      <td>5541.800</td>\n",
       "      <td>0.121127</td>\n",
       "    </tr>\n",
       "    <tr>\n",
       "      <th>98338</th>\n",
       "      <td>28787</td>\n",
       "      <td>2020</td>\n",
       "      <td>USA</td>\n",
       "      <td>PERFORMANCE FOOD GROUP CO</td>\n",
       "      <td>1993/08/24</td>\n",
       "      <td>5140</td>\n",
       "      <td>47.61</td>\n",
       "      <td>420.700</td>\n",
       "      <td>-114.100</td>\n",
       "      <td>7719.700</td>\n",
       "      <td>25086.300</td>\n",
       "      <td>-0.014780</td>\n",
       "    </tr>\n",
       "  </tbody>\n",
       "</table>\n",
       "</div>"
      ],
      "text/plain": [
       "         gvkey  fyear location                       conm     ipodate   sic  \\\n",
       "24707     7171   2020      USA              MCKESSON CORP         NaN  5122   \n",
       "119266   61122   2020      USA      AMCON DISTRIBUTING CO  1995/08/04  5190   \n",
       "112130   31673   2020      USA     AMERISOURCEBERGEN CORP  1995/04/04  5122   \n",
       "37549    10247   2020      USA                 SYSCO CORP         NaN  5140   \n",
       "175383  147708   2020      USA         CALAVO GROWERS INC         NaN  5140   \n",
       "6848      2751   2020      USA        CARDINAL HEALTH INC         NaN  5122   \n",
       "17958     5530   2020      USA                HAWKINS INC         NaN  5160   \n",
       "40945    11017   2020      USA          UNIVERSAL CORP/VA         NaN  5150   \n",
       "55415    14269   2020      USA    HERBALIFE NUTRITION LTD         NaN  5122   \n",
       "98338    28787   2020      USA  PERFORMANCE FOOD GROUP CO  1993/08/24  5140   \n",
       "\n",
       "        prcc_c        ch        ni      asset        sale       roa  \n",
       "24707   173.92  6278.000 -4539.000  65015.000  238228.000 -0.069815  \n",
       "119266  118.95     0.661     5.543    188.001    1127.979  0.029484  \n",
       "112130   97.76  4597.746 -3408.716  44274.830  189893.926 -0.076990  \n",
       "37549    74.26  6059.427   215.475  22628.266   52893.310  0.009522  \n",
       "175383   69.43     4.055   -13.625    429.624    1059.371 -0.031714  \n",
       "6848     53.56  2771.000 -3696.000  40766.000  152922.000 -0.090664  \n",
       "17958    52.31     2.998    40.980    472.550     596.871  0.086721  \n",
       "40945    48.61   197.221    87.410   2341.924    1983.357  0.037324  \n",
       "55415    48.05  1045.400   372.600   3076.100    5541.800  0.121127  \n",
       "98338    47.61   420.700  -114.100   7719.700   25086.300 -0.014780  "
      ]
     },
     "execution_count": 242,
     "metadata": {},
     "output_type": "execute_result"
    }
   ],
   "source": [
    "#1.\tWhat are the top 10 firms with the highest stock price (column \"prcc_c\") in the year 2020?\n",
    "topFirms('prcc_c', 10, 2020)"
   ]
  },
  {
   "cell_type": "code",
   "execution_count": 243,
   "metadata": {},
   "outputs": [
    {
     "data": {
      "text/html": [
       "<div>\n",
       "<style scoped>\n",
       "    .dataframe tbody tr th:only-of-type {\n",
       "        vertical-align: middle;\n",
       "    }\n",
       "\n",
       "    .dataframe tbody tr th {\n",
       "        vertical-align: top;\n",
       "    }\n",
       "\n",
       "    .dataframe thead th {\n",
       "        text-align: right;\n",
       "    }\n",
       "</style>\n",
       "<table border=\"1\" class=\"dataframe\">\n",
       "  <thead>\n",
       "    <tr style=\"text-align: right;\">\n",
       "      <th></th>\n",
       "      <th>gvkey</th>\n",
       "      <th>fyear</th>\n",
       "      <th>location</th>\n",
       "      <th>conm</th>\n",
       "      <th>ipodate</th>\n",
       "      <th>sic</th>\n",
       "      <th>prcc_c</th>\n",
       "      <th>ch</th>\n",
       "      <th>ni</th>\n",
       "      <th>asset</th>\n",
       "      <th>sale</th>\n",
       "      <th>roa</th>\n",
       "    </tr>\n",
       "  </thead>\n",
       "  <tbody>\n",
       "    <tr>\n",
       "      <th>24707</th>\n",
       "      <td>7171</td>\n",
       "      <td>2020</td>\n",
       "      <td>USA</td>\n",
       "      <td>MCKESSON CORP</td>\n",
       "      <td>NaN</td>\n",
       "      <td>5122</td>\n",
       "      <td>173.92</td>\n",
       "      <td>6278.000</td>\n",
       "      <td>-4539.000</td>\n",
       "      <td>65015.000</td>\n",
       "      <td>238228.000</td>\n",
       "      <td>-0.069815</td>\n",
       "    </tr>\n",
       "    <tr>\n",
       "      <th>24706</th>\n",
       "      <td>7171</td>\n",
       "      <td>2019</td>\n",
       "      <td>USA</td>\n",
       "      <td>MCKESSON CORP</td>\n",
       "      <td>NaN</td>\n",
       "      <td>5122</td>\n",
       "      <td>138.32</td>\n",
       "      <td>NaN</td>\n",
       "      <td>900.000</td>\n",
       "      <td>61247.000</td>\n",
       "      <td>231051.000</td>\n",
       "      <td>0.014695</td>\n",
       "    </tr>\n",
       "    <tr>\n",
       "      <th>24705</th>\n",
       "      <td>7171</td>\n",
       "      <td>2018</td>\n",
       "      <td>USA</td>\n",
       "      <td>MCKESSON CORP</td>\n",
       "      <td>NaN</td>\n",
       "      <td>5122</td>\n",
       "      <td>110.47</td>\n",
       "      <td>2981.000</td>\n",
       "      <td>34.000</td>\n",
       "      <td>59672.000</td>\n",
       "      <td>214319.000</td>\n",
       "      <td>0.000570</td>\n",
       "    </tr>\n",
       "    <tr>\n",
       "      <th>24704</th>\n",
       "      <td>7171</td>\n",
       "      <td>2017</td>\n",
       "      <td>USA</td>\n",
       "      <td>MCKESSON CORP</td>\n",
       "      <td>NaN</td>\n",
       "      <td>5122</td>\n",
       "      <td>155.95</td>\n",
       "      <td>2672.000</td>\n",
       "      <td>67.000</td>\n",
       "      <td>60381.000</td>\n",
       "      <td>208357.000</td>\n",
       "      <td>0.001110</td>\n",
       "    </tr>\n",
       "    <tr>\n",
       "      <th>24703</th>\n",
       "      <td>7171</td>\n",
       "      <td>2016</td>\n",
       "      <td>USA</td>\n",
       "      <td>MCKESSON CORP</td>\n",
       "      <td>NaN</td>\n",
       "      <td>5122</td>\n",
       "      <td>140.45</td>\n",
       "      <td>NaN</td>\n",
       "      <td>5070.000</td>\n",
       "      <td>60969.000</td>\n",
       "      <td>198533.000</td>\n",
       "      <td>0.083157</td>\n",
       "    </tr>\n",
       "    <tr>\n",
       "      <th>24702</th>\n",
       "      <td>7171</td>\n",
       "      <td>2015</td>\n",
       "      <td>USA</td>\n",
       "      <td>MCKESSON CORP</td>\n",
       "      <td>NaN</td>\n",
       "      <td>5122</td>\n",
       "      <td>197.23</td>\n",
       "      <td>NaN</td>\n",
       "      <td>2258.000</td>\n",
       "      <td>56563.000</td>\n",
       "      <td>190884.000</td>\n",
       "      <td>0.039920</td>\n",
       "    </tr>\n",
       "    <tr>\n",
       "      <th>112130</th>\n",
       "      <td>31673</td>\n",
       "      <td>2020</td>\n",
       "      <td>USA</td>\n",
       "      <td>AMERISOURCEBERGEN CORP</td>\n",
       "      <td>1995/04/04</td>\n",
       "      <td>5122</td>\n",
       "      <td>97.76</td>\n",
       "      <td>4597.746</td>\n",
       "      <td>-3408.716</td>\n",
       "      <td>44274.830</td>\n",
       "      <td>189893.926</td>\n",
       "      <td>-0.076990</td>\n",
       "    </tr>\n",
       "    <tr>\n",
       "      <th>112129</th>\n",
       "      <td>31673</td>\n",
       "      <td>2019</td>\n",
       "      <td>USA</td>\n",
       "      <td>AMERISOURCEBERGEN CORP</td>\n",
       "      <td>1995/04/04</td>\n",
       "      <td>5122</td>\n",
       "      <td>85.02</td>\n",
       "      <td>3374.194</td>\n",
       "      <td>855.365</td>\n",
       "      <td>39171.980</td>\n",
       "      <td>179589.121</td>\n",
       "      <td>0.021836</td>\n",
       "    </tr>\n",
       "    <tr>\n",
       "      <th>24701</th>\n",
       "      <td>7171</td>\n",
       "      <td>2014</td>\n",
       "      <td>USA</td>\n",
       "      <td>MCKESSON CORP</td>\n",
       "      <td>NaN</td>\n",
       "      <td>5122</td>\n",
       "      <td>207.58</td>\n",
       "      <td>5341.000</td>\n",
       "      <td>1476.000</td>\n",
       "      <td>53870.000</td>\n",
       "      <td>179045.000</td>\n",
       "      <td>0.027399</td>\n",
       "    </tr>\n",
       "    <tr>\n",
       "      <th>112128</th>\n",
       "      <td>31673</td>\n",
       "      <td>2018</td>\n",
       "      <td>USA</td>\n",
       "      <td>AMERISOURCEBERGEN CORP</td>\n",
       "      <td>1995/04/04</td>\n",
       "      <td>5122</td>\n",
       "      <td>74.40</td>\n",
       "      <td>2492.516</td>\n",
       "      <td>1658.405</td>\n",
       "      <td>37669.838</td>\n",
       "      <td>167939.635</td>\n",
       "      <td>0.044025</td>\n",
       "    </tr>\n",
       "  </tbody>\n",
       "</table>\n",
       "</div>"
      ],
      "text/plain": [
       "        gvkey  fyear location                    conm     ipodate   sic  \\\n",
       "24707    7171   2020      USA           MCKESSON CORP         NaN  5122   \n",
       "24706    7171   2019      USA           MCKESSON CORP         NaN  5122   \n",
       "24705    7171   2018      USA           MCKESSON CORP         NaN  5122   \n",
       "24704    7171   2017      USA           MCKESSON CORP         NaN  5122   \n",
       "24703    7171   2016      USA           MCKESSON CORP         NaN  5122   \n",
       "24702    7171   2015      USA           MCKESSON CORP         NaN  5122   \n",
       "112130  31673   2020      USA  AMERISOURCEBERGEN CORP  1995/04/04  5122   \n",
       "112129  31673   2019      USA  AMERISOURCEBERGEN CORP  1995/04/04  5122   \n",
       "24701    7171   2014      USA           MCKESSON CORP         NaN  5122   \n",
       "112128  31673   2018      USA  AMERISOURCEBERGEN CORP  1995/04/04  5122   \n",
       "\n",
       "        prcc_c        ch        ni      asset        sale       roa  \n",
       "24707   173.92  6278.000 -4539.000  65015.000  238228.000 -0.069815  \n",
       "24706   138.32       NaN   900.000  61247.000  231051.000  0.014695  \n",
       "24705   110.47  2981.000    34.000  59672.000  214319.000  0.000570  \n",
       "24704   155.95  2672.000    67.000  60381.000  208357.000  0.001110  \n",
       "24703   140.45       NaN  5070.000  60969.000  198533.000  0.083157  \n",
       "24702   197.23       NaN  2258.000  56563.000  190884.000  0.039920  \n",
       "112130   97.76  4597.746 -3408.716  44274.830  189893.926 -0.076990  \n",
       "112129   85.02  3374.194   855.365  39171.980  179589.121  0.021836  \n",
       "24701   207.58  5341.000  1476.000  53870.000  179045.000  0.027399  \n",
       "112128   74.40  2492.516  1658.405  37669.838  167939.635  0.044025  "
      ]
     },
     "execution_count": 243,
     "metadata": {},
     "output_type": "execute_result"
    }
   ],
   "source": [
    "#2.\tWhat are the top 10 firms with the highest sales (column \"sale\") in the entire history of the dataset?\n",
    "topFirms('sale', 10)"
   ]
  },
  {
   "cell_type": "code",
   "execution_count": 244,
   "metadata": {},
   "outputs": [
    {
     "data": {
      "text/html": [
       "<div>\n",
       "<style scoped>\n",
       "    .dataframe tbody tr th:only-of-type {\n",
       "        vertical-align: middle;\n",
       "    }\n",
       "\n",
       "    .dataframe tbody tr th {\n",
       "        vertical-align: top;\n",
       "    }\n",
       "\n",
       "    .dataframe thead th {\n",
       "        text-align: right;\n",
       "    }\n",
       "</style>\n",
       "<table border=\"1\" class=\"dataframe\">\n",
       "  <thead>\n",
       "    <tr style=\"text-align: right;\">\n",
       "      <th></th>\n",
       "      <th>gvkey</th>\n",
       "    </tr>\n",
       "    <tr>\n",
       "      <th>location</th>\n",
       "      <th></th>\n",
       "    </tr>\n",
       "  </thead>\n",
       "  <tbody>\n",
       "    <tr>\n",
       "      <th>USA</th>\n",
       "      <td>2086</td>\n",
       "    </tr>\n",
       "    <tr>\n",
       "      <th>CHN</th>\n",
       "      <td>48</td>\n",
       "    </tr>\n",
       "    <tr>\n",
       "      <th>ISR</th>\n",
       "      <td>42</td>\n",
       "    </tr>\n",
       "    <tr>\n",
       "      <th>HKG</th>\n",
       "      <td>38</td>\n",
       "    </tr>\n",
       "    <tr>\n",
       "      <th>BRA</th>\n",
       "      <td>38</td>\n",
       "    </tr>\n",
       "    <tr>\n",
       "      <th>GBR</th>\n",
       "      <td>29</td>\n",
       "    </tr>\n",
       "    <tr>\n",
       "      <th>MEX</th>\n",
       "      <td>17</td>\n",
       "    </tr>\n",
       "    <tr>\n",
       "      <th>RUS</th>\n",
       "      <td>17</td>\n",
       "    </tr>\n",
       "    <tr>\n",
       "      <th>CHE</th>\n",
       "      <td>12</td>\n",
       "    </tr>\n",
       "    <tr>\n",
       "      <th>CAN</th>\n",
       "      <td>9</td>\n",
       "    </tr>\n",
       "  </tbody>\n",
       "</table>\n",
       "</div>"
      ],
      "text/plain": [
       "          gvkey\n",
       "location       \n",
       "USA        2086\n",
       "CHN          48\n",
       "ISR          42\n",
       "HKG          38\n",
       "BRA          38\n",
       "GBR          29\n",
       "MEX          17\n",
       "RUS          17\n",
       "CHE          12\n",
       "CAN           9"
      ]
     },
     "execution_count": 244,
     "metadata": {},
     "output_type": "execute_result"
    }
   ],
   "source": [
    "#3.\tWhat is the geographical distribution (column \"location\") of all the firms? In other words, how many firms are there in each location? Please list the top 10 locations. \n",
    "topLocations = filteredPublicFirms.groupby('location')[['gvkey']].count().sort_values(by='gvkey', ascending=False).head(10)\n",
    "topLocations"
   ]
  },
  {
   "cell_type": "code",
   "execution_count": 245,
   "metadata": {},
   "outputs": [
    {
     "data": {
      "text/plain": [
       "<Axes: xlabel='fyear'>"
      ]
     },
     "execution_count": 245,
     "metadata": {},
     "output_type": "execute_result"
    },
    {
     "data": {
      "image/png": "[encoded data removed]",
      "text/plain": [
       "<Figure size 640x480 with 1 Axes>"
      ]
     },
     "metadata": {},
     "output_type": "display_data"
    }
   ],
   "source": [
    "#4.\tCreate a line chart to show the average stock price (column \"prcc_c\") in the selected sector(s) across the years. If you have selected multiple sectors, draw multiple lines to show them separately.\n",
    "meanStockPrice = filteredPublicFirms.groupby('fyear')[['prcc_c']].mean()\n",
    "meanStockPrice.plot.line()"
   ]
  },
  {
   "cell_type": "code",
   "execution_count": 392,
   "metadata": {},
   "outputs": [
    {
     "name": "stdout",
     "output_type": "stream",
     "text": [
      "The firm most affected by the 2008 Financial Crisis is CENTRAL ENERGY PARTNERS LP (gvkey: 161977) with a drop of 92.70588235294117%.\n"
     ]
    }
   ],
   "source": [
    "#5.\tWhich firm was affected the most by the 2008 Financial Crisis, as measured by the percentage drop in stock price from 2007 to 2008?\n",
    "# ideation by ChatGPT\n",
    "\n",
    "df_2007 = filteredPublicFirms[filteredPublicFirms['fyear'] == 2007]\n",
    "df_2008 = filteredPublicFirms[filteredPublicFirms['fyear'] == 2008]\n",
    "\n",
    "avg_price_2007 = df_2007.groupby('gvkey')['prcc_c'].mean()\n",
    "avg_price_2008 = df_2008.groupby('gvkey')['prcc_c'].mean()\n",
    "\n",
    "percentage_drop = ((avg_price_2008 - avg_price_2007) / avg_price_2007) * 100\n",
    "\n",
    "most_affexted_gvkey = percentage_drop.idxmin()\n",
    "most_affected_conm = df_2008[df_2008['gvkey'] == most_affexted_gvkey]['conm'].values[0]\n",
    "max_drop = abs(percentage_drop.min())\n",
    "\n",
    "print(f\"The firm most affected by the 2008 Financial Crisis is {most_affected_conm} (gvkey: {most_affexted_gvkey}) with a drop of {max_drop}%.\")"
   ]
  },
  {
   "cell_type": "code",
   "execution_count": 407,
   "metadata": {},
   "outputs": [
    {
     "data": {
      "text/plain": [
       "<Axes: xlabel='fyear'>"
      ]
     },
     "execution_count": 407,
     "metadata": {},
     "output_type": "execute_result"
    },
    {
     "data": {
      "image/png": "[encoded data removed]",
      "text/plain": [
       "<Figure size 640x480 with 1 Axes>"
      ]
     },
     "metadata": {},
     "output_type": "display_data"
    }
   ],
   "source": [
    "#6.\tPlot the average Return on Assets (ROA) for the firms located in the “USA” across the years. ROA is calculated as ni/asset.\n",
    "df_usa = filteredPublicFirms[filteredPublicFirms['location'] == 'USA']\n",
    "df_usa['roa'] = df_usa['ni'] / df_usa['asset']\n",
    "avg_return_on_assets = df_usa.groupby('fyear')['roa'].mean()\n",
    "avg_return_on_assets.plot.line()"
   ]
  },
  {
   "cell_type": "markdown",
   "metadata": {},
   "source": [
    "## Part 2. Text Analysis on the Industry Sector\n",
    "\n",
    "### C. Text Cleaning"
   ]
  },
  {
   "cell_type": "code",
   "execution_count": 394,
   "metadata": {},
   "outputs": [],
   "source": [
    "translator = str.maketrans('', '', string.punctuation)\n",
    "sw = stopwords.words('english')\n",
    "\n",
    "def clean_text(text):\n",
    "    #1.\tConvert all words to lowercase.\n",
    "    clean_text = text.lower()\n",
    "\n",
    "    #2.\tRemove punctuations.\n",
    "    clean_text = clean_text.translate(translator)\n",
    "\n",
    "    #3.\tRemove stop words based on the list of English stop words in NLTK.\n",
    "    clean_words = [w for w in clean_text.split() if w not in sw]\n",
    "    \n",
    "    return ' '.join(clean_words)\n"
   ]
  },
  {
   "cell_type": "markdown",
   "metadata": {},
   "source": [
    "### D. Keyword Analysis"
   ]
  },
  {
   "cell_type": "code",
   "execution_count": 397,
   "metadata": {},
   "outputs": [],
   "source": [
    "#1.\tCreate a new DataFrame that includes only firms in your selected industry sectors. Ensure that you merge the 10-K data with the previous \"public_firm.csv\" data using an inner join.\n"
   ]
  },
  {
   "cell_type": "code",
   "execution_count": 398,
   "metadata": {},
   "outputs": [],
   "source": [
    "#2.\tGenerate the top 10 keywords for each firm based on two different methods: word counts and TF-IDF score.\n"
   ]
  },
  {
   "cell_type": "code",
   "execution_count": 399,
   "metadata": {},
   "outputs": [],
   "source": [
    "#3.\tCreate two wordclouds to visualize the keywords across all firms in the selected sector: one based on the word count of keywords and another based on the TF-IDF score.\n"
   ]
  },
  {
   "cell_type": "markdown",
   "metadata": {},
   "source": [
    "### E. Word Embedding"
   ]
  },
  {
   "cell_type": "code",
   "execution_count": 400,
   "metadata": {},
   "outputs": [],
   "source": [
    "#1.\tTrain a word2vec model with the full 10-K sample (e.g., \"data/2020_10K_item1_full.csv\"). Please use the cleaned text (e.g., results from Step C) for training.\n"
   ]
  },
  {
   "cell_type": "code",
   "execution_count": 401,
   "metadata": {},
   "outputs": [],
   "source": [
    "#2.\tManually inspect the wordclouds you generated in D.3 and choose three representative keywords that are relevant to the industry sector of your interest. Utilize the trained word2vec model to find the most relevant five words for each of these three keywords.\n"
   ]
  },
  {
   "cell_type": "markdown",
   "metadata": {},
   "source": [
    "## Part 3. Comprehensive Analysis of One Sample Firm\n",
    "\n",
    "### F. Firm Analysis and Strategy Suggestion"
   ]
  },
  {
   "cell_type": "code",
   "execution_count": 402,
   "metadata": {},
   "outputs": [],
   "source": [
    "#1.\tConvert the keywords extracted in D.2 into word embeddings with the word2vec model trained in E.1. Add up the embeddings for each firm to create the firm-level embeddings. Use the firm-level embeddings to find the focal firm’s competing firms (or, most similar firms). \n"
   ]
  },
  {
   "cell_type": "code",
   "execution_count": 403,
   "metadata": {},
   "outputs": [],
   "source": [
    "#2.\tCompare the revenue, market share, and ROA of the focal firm to its competitors and provide suggestions accordingly.\n"
   ]
  },
  {
   "cell_type": "code",
   "execution_count": 404,
   "metadata": {},
   "outputs": [],
   "source": [
    "#3.\tPerform an analysis of the historical stock prices, ROA, revenue, and assets of the chosen company. Investigate potential correlations and address noteworthy decreases and increases.\n"
   ]
  }
 ],
 "metadata": {
  "kernelspec": {
   "display_name": "Python 3 (ipykernel)",
   "language": "python",
   "name": "python3"
  },
  "language_info": {
   "codemirror_mode": {
    "name": "ipython",
    "version": 3
   },
   "file_extension": ".py",
   "mimetype": "text/x-python",
   "name": "python",
   "nbconvert_exporter": "python",
   "pygments_lexer": "ipython3",
   "version": "3.11.4"
  },
  "orig_nbformat": 4
 },
 "nbformat": 4,
 "nbformat_minor": 2
}
